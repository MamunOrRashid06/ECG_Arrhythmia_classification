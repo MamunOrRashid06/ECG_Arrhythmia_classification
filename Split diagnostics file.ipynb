{
 "cells": [
  {
   "cell_type": "code",
   "execution_count": 1,
   "id": "e3feb252",
   "metadata": {},
   "outputs": [],
   "source": [
    "import glob\n",
    "import pandas as pd\n",
    "import numpy as np"
   ]
  },
  {
   "cell_type": "code",
   "execution_count": 2,
   "id": "f7dbe88e",
   "metadata": {},
   "outputs": [],
   "source": [
    "path=\"F:/denoised/split/I/train_I\"\n",
    "file1=glob.glob(path+'/*.png')"
   ]
  },
  {
   "cell_type": "code",
   "execution_count": 3,
   "id": "f53bfd6b",
   "metadata": {},
   "outputs": [],
   "source": [
    "path=\"F:/denoised/split/I/test_I\"\n",
    "file2=glob.glob(path+'/*.png')"
   ]
  },
  {
   "cell_type": "code",
   "execution_count": 5,
   "id": "2ba776e9",
   "metadata": {},
   "outputs": [],
   "source": [
    "df1=pd.read_csv(\"F:/4 class Diagnostics.csv\")"
   ]
  },
  {
   "cell_type": "code",
   "execution_count": 6,
   "id": "eaa85c88",
   "metadata": {},
   "outputs": [],
   "source": [
    "n=0\n",
    "c=0\n",
    "for file in files1:\n",
    "    path= file.split('\\\\')[-1]\n",
    "    path= path.split('.')[0]\n",
    "    a=0\n",
    "    for i in df1['FileName']:\n",
    "        if i==path:\n",
    "            df=df1.iloc[[a]]\n",
    "            col=df1.columns\n",
    "            j=df.to_numpy() \n",
    "            if c==0:\n",
    "                y1=j\n",
    "                c+=1\n",
    "            else:\n",
    "                y1=np.vstack((y1, j))\n",
    "                c+=1\n",
    "        a+=1"
   ]
  },
  {
   "cell_type": "code",
   "execution_count": 7,
   "id": "d20c3ea9",
   "metadata": {},
   "outputs": [
    {
     "data": {
      "text/plain": [
       "(8516, 17)"
      ]
     },
     "execution_count": 7,
     "metadata": {},
     "output_type": "execute_result"
    }
   ],
   "source": [
    "np.shape(y1)"
   ]
  },
  {
   "cell_type": "code",
   "execution_count": 8,
   "id": "7e4c3505",
   "metadata": {},
   "outputs": [],
   "source": [
    "n=0\n",
    "c=0\n",
    "for file in files2:\n",
    "    path= file.split('\\\\')[-1]\n",
    "    path= path.split('.')[0]\n",
    "    a=0\n",
    "    for i in df1['FileName']:\n",
    "        if i==path:\n",
    "            df=df1.iloc[[a]]\n",
    "            col=df1.columns\n",
    "            j=df.to_numpy() \n",
    "            if c==0:\n",
    "                y2=j\n",
    "                c+=1\n",
    "            else:\n",
    "                y2=np.vstack((y2, j))\n",
    "                c+=1\n",
    "        a+=1"
   ]
  },
  {
   "cell_type": "code",
   "execution_count": 9,
   "id": "08f25406",
   "metadata": {},
   "outputs": [
    {
     "data": {
      "text/plain": [
       "(2130, 17)"
      ]
     },
     "execution_count": 9,
     "metadata": {},
     "output_type": "execute_result"
    }
   ],
   "source": [
    "np.shape(y2)"
   ]
  },
  {
   "cell_type": "code",
   "execution_count": 10,
   "id": "e75da06a",
   "metadata": {},
   "outputs": [],
   "source": [
    "R1=pd.DataFrame(y1, columns=col)"
   ]
  },
  {
   "cell_type": "code",
   "execution_count": 11,
   "id": "15744766",
   "metadata": {},
   "outputs": [],
   "source": [
    "R2=pd.DataFrame(y2, columns=col)"
   ]
  },
  {
   "cell_type": "code",
   "execution_count": 14,
   "id": "b2db771a",
   "metadata": {},
   "outputs": [],
   "source": [
    "R1.to_csv(\"F:/denoised/split/I/mlp/train_mlp.csv\") "
   ]
  },
  {
   "cell_type": "code",
   "execution_count": 15,
   "id": "d0fb629b",
   "metadata": {},
   "outputs": [],
   "source": [
    "R2.to_csv(\"F:/denoised/split/I/mlp/test_mlp.csv\")"
   ]
  },
  {
   "cell_type": "code",
   "execution_count": null,
   "id": "9e2845e9",
   "metadata": {},
   "outputs": [],
   "source": []
  }
 ],
 "metadata": {
  "kernelspec": {
   "display_name": "Python 3",
   "language": "python",
   "name": "python3"
  },
  "language_info": {
   "codemirror_mode": {
    "name": "ipython",
    "version": 3
   },
   "file_extension": ".py",
   "mimetype": "text/x-python",
   "name": "python",
   "nbconvert_exporter": "python",
   "pygments_lexer": "ipython3",
   "version": "3.8.10"
  }
 },
 "nbformat": 4,
 "nbformat_minor": 5
}
