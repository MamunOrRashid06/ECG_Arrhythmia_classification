{
 "cells": [
  {
   "cell_type": "code",
   "execution_count": null,
   "id": "4b1a2802",
   "metadata": {},
   "outputs": [],
   "source": [
    "!pip install keras_applications"
   ]
  },
  {
   "cell_type": "code",
   "execution_count": 1,
   "id": "091655ab",
   "metadata": {},
   "outputs": [
    {
     "name": "stderr",
     "output_type": "stream",
     "text": [
      "<frozen importlib._bootstrap>:228: RuntimeWarning: scipy._lib.messagestream.MessageStream size changed, may indicate binary incompatibility. Expected 56 from C header, got 64 from PyObject\n"
     ]
    }
   ],
   "source": [
    "from numpy import load \n",
    "import numpy as np \n",
    "import pandas as pd\n",
    "from sklearn.preprocessing import StandardScaler, LabelEncoder\n",
    "import tensorflow as tf\n",
    "import datetime\n",
    "from tensorflow import keras\n",
    "from tensorflow.keras.utils import normalize, to_categorical\n",
    "from tensorflow.keras import Sequential\n",
    "from tensorflow.keras.layers import Conv2D, MaxPooling2D\n",
    "from tensorflow.keras.layers import Flatten, Dense, Dropout, BatchNormalization\n",
    "import matplotlib.pyplot as plt\n",
    "from tensorflow.keras import layers \n",
    "from os import name\n",
    "from keras.layers import Concatenate\n",
    "from keras import applications\n",
    "from keras.models import Model\n",
    "from keras.callbacks import ModelCheckpoint, EarlyStopping, TensorBoard\n",
    "from keras import optimizers\n",
    "from keras.layers import Input, GlobalAveragePooling2D\n",
    "from tensorflow.keras.optimizers import Adam"
   ]
  },
  {
   "cell_type": "code",
   "execution_count": 2,
   "id": "501f8026",
   "metadata": {},
   "outputs": [
    {
     "name": "stdout",
     "output_type": "stream",
     "text": [
      "Loaded:  (34064, 128, 128, 3)\n"
     ]
    }
   ],
   "source": [
    "data = load('G:/4 lead/4 lead aVR V1 V3 aVF train.npz') \n",
    "train_X = data['arr_0'] \n",
    "print('Loaded: ', train_X.shape)"
   ]
  },
  {
   "cell_type": "code",
   "execution_count": 3,
   "id": "8c8e8b50",
   "metadata": {},
   "outputs": [
    {
     "name": "stdout",
     "output_type": "stream",
     "text": [
      "Loaded:  (8520, 128, 128, 3)\n"
     ]
    }
   ],
   "source": [
    "data = load('G:/4 Lead/4 lead aVR V1 V3 aVF test.npz') \n",
    "test_X = data['arr_0'] \n",
    "print('Loaded: ', test_X.shape) "
   ]
  },
  {
   "cell_type": "code",
   "execution_count": 4,
   "id": "7d0aab43",
   "metadata": {},
   "outputs": [
    {
     "name": "stdout",
     "output_type": "stream",
     "text": [
      "Loaded:  (8516, 1)\n"
     ]
    }
   ],
   "source": [
    "data = load('G:/4 lead/y_train.npz', allow_pickle=True) \n",
    "train_y = data['arr_0'] \n",
    "print('Loaded: ', train_y.shape) "
   ]
  },
  {
   "cell_type": "code",
   "execution_count": 5,
   "id": "030f61a5",
   "metadata": {},
   "outputs": [
    {
     "name": "stdout",
     "output_type": "stream",
     "text": [
      "Loaded:  (2130, 1)\n"
     ]
    }
   ],
   "source": [
    "data = load('G:/4 lead/y_test.npz', allow_pickle=True)\n",
    "test_y = data['arr_0']\n",
    "print('Loaded: ', test_y.shape) "
   ]
  },
  {
   "cell_type": "code",
   "execution_count": 6,
   "id": "638b3df6",
   "metadata": {},
   "outputs": [
    {
     "name": "stdout",
     "output_type": "stream",
     "text": [
      "loaded (8516, 11)\n"
     ]
    }
   ],
   "source": [
    "data=load(\"F:/denoised/split/I/mlp/train_X_dia.npz\")\n",
    "mlp_train_X=data['arr_0']\n",
    "print('loaded', mlp_train_X.shape)"
   ]
  },
  {
   "cell_type": "code",
   "execution_count": 7,
   "id": "918f9016",
   "metadata": {},
   "outputs": [
    {
     "name": "stdout",
     "output_type": "stream",
     "text": [
      "loaded (2130, 11)\n"
     ]
    }
   ],
   "source": [
    "data=load(\"F:/denoised/split/I/mlp/train_y_dia.npz\")\n",
    "mlp_test_X=data['arr_0']\n",
    "print('loaded', mlp_test_X.shape)"
   ]
  },
  {
   "cell_type": "code",
   "execution_count": 8,
   "id": "f5ffd2b3",
   "metadata": {},
   "outputs": [],
   "source": [
    "training_data = np.vsplit(train_X, 4) "
   ]
  },
  {
   "cell_type": "code",
   "execution_count": 9,
   "id": "3df5f6c3",
   "metadata": {},
   "outputs": [
    {
     "name": "stdout",
     "output_type": "stream",
     "text": [
      "(8516, 128, 128, 3)\n",
      "(8516, 128, 128, 3)\n",
      "(8516, 128, 128, 3)\n",
      "(8516, 128, 128, 3)\n"
     ]
    }
   ],
   "source": [
    "for i in range(4):\n",
    "    print(training_data[i].shape) "
   ]
  },
  {
   "cell_type": "code",
   "execution_count": 10,
   "id": "c27a739f",
   "metadata": {},
   "outputs": [
    {
     "data": {
      "text/plain": [
       "(4, 8516, 128, 128, 3)"
      ]
     },
     "execution_count": 10,
     "metadata": {},
     "output_type": "execute_result"
    }
   ],
   "source": [
    "np.shape(training_data)"
   ]
  },
  {
   "cell_type": "code",
   "execution_count": 11,
   "id": "59ba6bdb",
   "metadata": {},
   "outputs": [],
   "source": [
    "testing_data = np.vsplit(test_X, 4) "
   ]
  },
  {
   "cell_type": "code",
   "execution_count": 12,
   "id": "6ad3ead4",
   "metadata": {},
   "outputs": [
    {
     "name": "stdout",
     "output_type": "stream",
     "text": [
      "(2130, 128, 128, 3)\n",
      "(2130, 128, 128, 3)\n",
      "(2130, 128, 128, 3)\n",
      "(2130, 128, 128, 3)\n"
     ]
    }
   ],
   "source": [
    "for i in range(4):\n",
    "    print(testing_data[i].shape)"
   ]
  },
  {
   "cell_type": "code",
   "execution_count": 13,
   "id": "cd651c87",
   "metadata": {},
   "outputs": [
    {
     "data": {
      "text/plain": [
       "(4, 2130, 128, 128, 3)"
      ]
     },
     "execution_count": 13,
     "metadata": {},
     "output_type": "execute_result"
    }
   ],
   "source": [
    "np.shape(testing_data) "
   ]
  },
  {
   "cell_type": "code",
   "execution_count": 14,
   "id": "14f7b286",
   "metadata": {},
   "outputs": [],
   "source": [
    "train_y=pd.DataFrame(train_y, columns=[ 'Rhythm'])\n",
    "test_y=pd.DataFrame(test_y, columns=[ 'Rhythm'])"
   ]
  },
  {
   "cell_type": "code",
   "execution_count": 15,
   "id": "05bbbf08",
   "metadata": {},
   "outputs": [],
   "source": [
    "label = LabelEncoder()\n",
    "train_y['label'] = label.fit_transform(train_y['Rhythm'])"
   ]
  },
  {
   "cell_type": "code",
   "execution_count": 16,
   "id": "fb5ead1a",
   "metadata": {},
   "outputs": [],
   "source": [
    "test_y['label'] = label.fit_transform(test_y['Rhythm'])"
   ]
  },
  {
   "cell_type": "code",
   "execution_count": 17,
   "id": "39b63fcc",
   "metadata": {},
   "outputs": [],
   "source": [
    "train_y=train_y.drop([ 'Rhythm'], axis=1)\n",
    "test_y=test_y.drop([ 'Rhythm'], axis=1)"
   ]
  },
  {
   "cell_type": "code",
   "execution_count": 18,
   "id": "c52cb463",
   "metadata": {},
   "outputs": [],
   "source": [
    "y_train=to_categorical(train_y) \n",
    "y_test=to_categorical(test_y) "
   ]
  },
  {
   "cell_type": "code",
   "execution_count": 19,
   "id": "73bf45ad",
   "metadata": {},
   "outputs": [],
   "source": [
    "base_model=tf.keras.applications.DenseNet201(\n",
    "    include_top=False,\n",
    "    weights='imagenet',\n",
    "    input_shape=(128,128,3)\n",
    ")"
   ]
  },
  {
   "cell_type": "code",
   "execution_count": 20,
   "id": "db79532f",
   "metadata": {},
   "outputs": [],
   "source": [
    "base_model.trainable = False"
   ]
  },
  {
   "cell_type": "code",
   "execution_count": 21,
   "id": "138775ce",
   "metadata": {},
   "outputs": [],
   "source": [
    "# dataset has 4 classes\n",
    "num_class = 4"
   ]
  },
  {
   "cell_type": "code",
   "execution_count": 22,
   "id": "27d92607",
   "metadata": {},
   "outputs": [],
   "source": [
    "def conv_block_2d():\n",
    "        preprocess = tf.keras.layers.experimental.preprocessing.Rescaling(\n",
    "            scale=1.0/127.5,\n",
    "            offset=-1)\n",
    "        inputs = layers.Input(shape=(128, 128, 3))\n",
    "        x = preprocess(inputs)\n",
    "        x =base_model(x, training=False)\n",
    "        output = layers.GlobalAveragePooling2D()(x)\n",
    "        return inputs, output "
   ]
  },
  {
   "cell_type": "code",
   "execution_count": 23,
   "id": "6e55ce5a",
   "metadata": {},
   "outputs": [],
   "source": [
    "def multiple_cnn2D(nb):\n",
    "  inputs = []\n",
    "  features = []\n",
    "  for i in range(nb):\n",
    "    input_2d, features_2d = conv_block_2d()\n",
    "    inputs.append(input_2d)\n",
    "    features.append(features_2d)\n",
    "\n",
    "  x1 = layers.concatenate(features, axis=-1)\n",
    "  x1= Dropout(.1)(x1)\n",
    "  x1=Dense(32,activation='relu')(x1)\n",
    "  x1= Dropout(0.2)(x1)\n",
    "\n",
    "  x2 = Sequential()\n",
    "  mlp_input = Input(shape=(11,), name='mlp')\n",
    "  x2=Dense(128, activation='relu')(mlp_input)\n",
    "  \n",
    "  concat = layers.concatenate([x1,x2])\n",
    "  preds=Dense(num_class, activation='softmax')(concat) #final layer with softmax activation\n",
    "  \n",
    "  model=Model(inputs=[inputs, mlp_input],outputs=preds)\n",
    "  opt = Adam(lr=0.00003) \n",
    "  model.compile(loss='categorical_crossentropy', optimizer=opt, metrics=['accuracy'])\n",
    "  print(model.summary())\n",
    "  return model"
   ]
  },
  {
   "cell_type": "code",
   "execution_count": 24,
   "id": "6c555b8e",
   "metadata": {},
   "outputs": [
    {
     "name": "stdout",
     "output_type": "stream",
     "text": [
      "Model: \"model\"\n",
      "__________________________________________________________________________________________________\n",
      " Layer (type)                   Output Shape         Param #     Connected to                     \n",
      "==================================================================================================\n",
      " input_2 (InputLayer)           [(None, 128, 128, 3  0           []                               \n",
      "                                )]                                                                \n",
      "                                                                                                  \n",
      " input_3 (InputLayer)           [(None, 128, 128, 3  0           []                               \n",
      "                                )]                                                                \n",
      "                                                                                                  \n",
      " input_4 (InputLayer)           [(None, 128, 128, 3  0           []                               \n",
      "                                )]                                                                \n",
      "                                                                                                  \n",
      " input_5 (InputLayer)           [(None, 128, 128, 3  0           []                               \n",
      "                                )]                                                                \n",
      "                                                                                                  \n",
      " rescaling (Rescaling)          (None, 128, 128, 3)  0           ['input_2[0][0]']                \n",
      "                                                                                                  \n",
      " rescaling_1 (Rescaling)        (None, 128, 128, 3)  0           ['input_3[0][0]']                \n",
      "                                                                                                  \n",
      " rescaling_2 (Rescaling)        (None, 128, 128, 3)  0           ['input_4[0][0]']                \n",
      "                                                                                                  \n",
      " rescaling_3 (Rescaling)        (None, 128, 128, 3)  0           ['input_5[0][0]']                \n",
      "                                                                                                  \n",
      " densenet201 (Functional)       (None, 4, 4, 1920)   18321984    ['rescaling[0][0]',              \n",
      "                                                                  'rescaling_1[0][0]',            \n",
      "                                                                  'rescaling_2[0][0]',            \n",
      "                                                                  'rescaling_3[0][0]']            \n",
      "                                                                                                  \n",
      " global_average_pooling2d (Glob  (None, 1920)        0           ['densenet201[0][0]']            \n",
      " alAveragePooling2D)                                                                              \n",
      "                                                                                                  \n",
      " global_average_pooling2d_1 (Gl  (None, 1920)        0           ['densenet201[1][0]']            \n",
      " obalAveragePooling2D)                                                                            \n",
      "                                                                                                  \n",
      " global_average_pooling2d_2 (Gl  (None, 1920)        0           ['densenet201[2][0]']            \n",
      " obalAveragePooling2D)                                                                            \n",
      "                                                                                                  \n",
      " global_average_pooling2d_3 (Gl  (None, 1920)        0           ['densenet201[3][0]']            \n",
      " obalAveragePooling2D)                                                                            \n",
      "                                                                                                  \n",
      " concatenate (Concatenate)      (None, 7680)         0           ['global_average_pooling2d[0][0]'\n",
      "                                                                 , 'global_average_pooling2d_1[0][\n",
      "                                                                 0]',                             \n",
      "                                                                  'global_average_pooling2d_2[0][0\n",
      "                                                                 ]',                              \n",
      "                                                                  'global_average_pooling2d_3[0][0\n",
      "                                                                 ]']                              \n",
      "                                                                                                  \n",
      " dropout (Dropout)              (None, 7680)         0           ['concatenate[0][0]']            \n",
      "                                                                                                  \n",
      " dense (Dense)                  (None, 32)           245792      ['dropout[0][0]']                \n",
      "                                                                                                  \n",
      " mlp (InputLayer)               [(None, 11)]         0           []                               \n",
      "                                                                                                  \n",
      " dropout_1 (Dropout)            (None, 32)           0           ['dense[0][0]']                  \n",
      "                                                                                                  \n",
      " dense_1 (Dense)                (None, 128)          1536        ['mlp[0][0]']                    \n",
      "                                                                                                  \n",
      " concatenate_1 (Concatenate)    (None, 160)          0           ['dropout_1[0][0]',              \n",
      "                                                                  'dense_1[0][0]']                \n",
      "                                                                                                  \n",
      " dense_2 (Dense)                (None, 4)            644         ['concatenate_1[0][0]']          \n",
      "                                                                                                  \n",
      "==================================================================================================\n",
      "Total params: 18,569,956\n",
      "Trainable params: 247,972\n",
      "Non-trainable params: 18,321,984\n",
      "__________________________________________________________________________________________________\n",
      "None\n"
     ]
    },
    {
     "name": "stderr",
     "output_type": "stream",
     "text": [
      "C:\\Users\\ASUS\\.conda\\envs\\Tensorflow\\lib\\site-packages\\keras\\optimizer_v2\\adam.py:105: UserWarning: The `lr` argument is deprecated, use `learning_rate` instead.\n",
      "  super(Adam, self).__init__(name, **kwargs)\n"
     ]
    }
   ],
   "source": [
    "model = multiple_cnn2D(4)"
   ]
  },
  {
   "cell_type": "code",
   "execution_count": 25,
   "id": "ae48306f",
   "metadata": {},
   "outputs": [],
   "source": [
    "callback = tf.keras.callbacks.EarlyStopping(monitor='val_loss', patience=30)"
   ]
  },
  {
   "cell_type": "code",
   "execution_count": 26,
   "id": "3f1e7f92",
   "metadata": {},
   "outputs": [
    {
     "name": "stdout",
     "output_type": "stream",
     "text": [
      "Epoch 1/430\n",
      "134/134 [==============================] - 102s 507ms/step - loss: 0.9771 - accuracy: 0.6190 - val_loss: 0.6598 - val_accuracy: 0.8150\n",
      "Epoch 2/430\n",
      "134/134 [==============================] - 59s 442ms/step - loss: 0.6096 - accuracy: 0.8070 - val_loss: 0.4815 - val_accuracy: 0.8671\n",
      "Epoch 3/430\n",
      "134/134 [==============================] - 60s 448ms/step - loss: 0.4971 - accuracy: 0.8408 - val_loss: 0.4149 - val_accuracy: 0.8836\n",
      "Epoch 4/430\n",
      "134/134 [==============================] - 59s 443ms/step - loss: 0.4493 - accuracy: 0.8571 - val_loss: 0.3805 - val_accuracy: 0.8850\n",
      "Epoch 5/430\n",
      "134/134 [==============================] - 62s 464ms/step - loss: 0.4211 - accuracy: 0.8664 - val_loss: 0.3591 - val_accuracy: 0.8911\n",
      "Epoch 6/430\n",
      "134/134 [==============================] - 62s 467ms/step - loss: 0.3933 - accuracy: 0.8764 - val_loss: 0.3436 - val_accuracy: 0.8934\n",
      "Epoch 7/430\n",
      "134/134 [==============================] - 87s 650ms/step - loss: 0.3806 - accuracy: 0.8803 - val_loss: 0.3321 - val_accuracy: 0.8986\n",
      "Epoch 8/430\n",
      "134/134 [==============================] - 71s 528ms/step - loss: 0.3622 - accuracy: 0.8826 - val_loss: 0.3264 - val_accuracy: 0.9042\n",
      "Epoch 9/430\n",
      "134/134 [==============================] - 62s 461ms/step - loss: 0.3525 - accuracy: 0.8876 - val_loss: 0.3107 - val_accuracy: 0.9052\n",
      "Epoch 10/430\n",
      "134/134 [==============================] - 79s 592ms/step - loss: 0.3419 - accuracy: 0.8884 - val_loss: 0.3052 - val_accuracy: 0.9052\n",
      "Epoch 11/430\n",
      "134/134 [==============================] - 80s 601ms/step - loss: 0.3337 - accuracy: 0.8938 - val_loss: 0.2983 - val_accuracy: 0.9056\n",
      "Epoch 12/430\n",
      "134/134 [==============================] - 60s 449ms/step - loss: 0.3233 - accuracy: 0.8950 - val_loss: 0.2930 - val_accuracy: 0.9070\n",
      "Epoch 13/430\n",
      "134/134 [==============================] - 68s 512ms/step - loss: 0.3171 - accuracy: 0.9000 - val_loss: 0.2882 - val_accuracy: 0.9099\n",
      "Epoch 14/430\n",
      "134/134 [==============================] - 87s 654ms/step - loss: 0.3068 - accuracy: 0.9021 - val_loss: 0.2864 - val_accuracy: 0.9066\n",
      "Epoch 15/430\n",
      "134/134 [==============================] - 59s 444ms/step - loss: 0.3034 - accuracy: 0.9041 - val_loss: 0.2804 - val_accuracy: 0.9080\n",
      "Epoch 16/430\n",
      "134/134 [==============================] - 60s 452ms/step - loss: 0.2954 - accuracy: 0.9031 - val_loss: 0.2763 - val_accuracy: 0.9085\n",
      "Epoch 17/430\n",
      "134/134 [==============================] - 87s 651ms/step - loss: 0.2982 - accuracy: 0.9061 - val_loss: 0.2739 - val_accuracy: 0.9089\n",
      "Epoch 18/430\n",
      "134/134 [==============================] - 69s 515ms/step - loss: 0.2847 - accuracy: 0.9078 - val_loss: 0.2715 - val_accuracy: 0.9122\n",
      "Epoch 19/430\n",
      "134/134 [==============================] - 60s 451ms/step - loss: 0.2811 - accuracy: 0.9069 - val_loss: 0.2670 - val_accuracy: 0.9122\n",
      "Epoch 20/430\n",
      "134/134 [==============================] - 74s 552ms/step - loss: 0.2790 - accuracy: 0.9092 - val_loss: 0.2667 - val_accuracy: 0.9136\n",
      "Epoch 21/430\n",
      "134/134 [==============================] - 80s 596ms/step - loss: 0.2753 - accuracy: 0.9097 - val_loss: 0.2626 - val_accuracy: 0.9127\n",
      "Epoch 22/430\n",
      "134/134 [==============================] - 60s 447ms/step - loss: 0.2727 - accuracy: 0.9093 - val_loss: 0.2588 - val_accuracy: 0.9136\n",
      "Epoch 23/430\n",
      "134/134 [==============================] - 61s 455ms/step - loss: 0.2684 - accuracy: 0.9115 - val_loss: 0.2566 - val_accuracy: 0.9150\n",
      "Epoch 24/430\n",
      "134/134 [==============================] - 89s 667ms/step - loss: 0.2649 - accuracy: 0.9135 - val_loss: 0.2544 - val_accuracy: 0.9174\n",
      "Epoch 25/430\n",
      "134/134 [==============================] - 64s 477ms/step - loss: 0.2604 - accuracy: 0.9144 - val_loss: 0.2515 - val_accuracy: 0.9183\n",
      "Epoch 26/430\n",
      "134/134 [==============================] - 60s 449ms/step - loss: 0.2597 - accuracy: 0.9149 - val_loss: 0.2497 - val_accuracy: 0.9192\n",
      "Epoch 27/430\n",
      "134/134 [==============================] - 70s 527ms/step - loss: 0.2589 - accuracy: 0.9156 - val_loss: 0.2478 - val_accuracy: 0.9211\n",
      "Epoch 28/430\n",
      "134/134 [==============================] - 79s 587ms/step - loss: 0.2562 - accuracy: 0.9193 - val_loss: 0.2464 - val_accuracy: 0.9221\n",
      "Epoch 29/430\n",
      "134/134 [==============================] - 59s 441ms/step - loss: 0.2514 - accuracy: 0.9187 - val_loss: 0.2447 - val_accuracy: 0.9221\n",
      "Epoch 30/430\n",
      "134/134 [==============================] - 60s 448ms/step - loss: 0.2464 - accuracy: 0.9205 - val_loss: 0.2448 - val_accuracy: 0.9197\n",
      "Epoch 31/430\n",
      "134/134 [==============================] - 70s 523ms/step - loss: 0.2380 - accuracy: 0.9233 - val_loss: 0.2429 - val_accuracy: 0.9202\n",
      "Epoch 32/430\n",
      "134/134 [==============================] - 78s 584ms/step - loss: 0.2416 - accuracy: 0.9205 - val_loss: 0.2399 - val_accuracy: 0.9230\n",
      "Epoch 33/430\n",
      "134/134 [==============================] - 59s 440ms/step - loss: 0.2416 - accuracy: 0.9200 - val_loss: 0.2389 - val_accuracy: 0.9239\n",
      "Epoch 34/430\n",
      "134/134 [==============================] - 60s 447ms/step - loss: 0.2396 - accuracy: 0.9227 - val_loss: 0.2370 - val_accuracy: 0.9235\n",
      "Epoch 35/430\n",
      "134/134 [==============================] - 60s 449ms/step - loss: 0.2331 - accuracy: 0.9232 - val_loss: 0.2376 - val_accuracy: 0.9221\n",
      "Epoch 36/430\n",
      "134/134 [==============================] - 88s 656ms/step - loss: 0.2330 - accuracy: 0.9254 - val_loss: 0.2374 - val_accuracy: 0.9216\n",
      "Epoch 37/430\n",
      "134/134 [==============================] - 63s 471ms/step - loss: 0.2327 - accuracy: 0.9224 - val_loss: 0.2378 - val_accuracy: 0.9216\n",
      "Epoch 38/430\n",
      "134/134 [==============================] - 60s 448ms/step - loss: 0.2308 - accuracy: 0.9241 - val_loss: 0.2360 - val_accuracy: 0.9254\n",
      "Epoch 39/430\n",
      "134/134 [==============================] - 70s 523ms/step - loss: 0.2270 - accuracy: 0.9264 - val_loss: 0.2313 - val_accuracy: 0.9258\n",
      "Epoch 40/430\n",
      "134/134 [==============================] - 81s 608ms/step - loss: 0.2281 - accuracy: 0.9233 - val_loss: 0.2312 - val_accuracy: 0.9239\n",
      "Epoch 41/430\n",
      "134/134 [==============================] - 60s 448ms/step - loss: 0.2202 - accuracy: 0.9257 - val_loss: 0.2303 - val_accuracy: 0.9244\n",
      "Epoch 42/430\n",
      "134/134 [==============================] - 61s 453ms/step - loss: 0.2197 - accuracy: 0.9253 - val_loss: 0.2338 - val_accuracy: 0.9230\n",
      "Epoch 43/430\n",
      "134/134 [==============================] - 87s 654ms/step - loss: 0.2193 - accuracy: 0.9271 - val_loss: 0.2264 - val_accuracy: 0.9282\n",
      "Epoch 44/430\n",
      "134/134 [==============================] - 64s 476ms/step - loss: 0.2163 - accuracy: 0.9264 - val_loss: 0.2282 - val_accuracy: 0.9235\n",
      "Epoch 45/430\n",
      "134/134 [==============================] - 60s 447ms/step - loss: 0.2192 - accuracy: 0.9274 - val_loss: 0.2242 - val_accuracy: 0.9286\n",
      "Epoch 46/430\n",
      "134/134 [==============================] - 60s 449ms/step - loss: 0.2166 - accuracy: 0.9298 - val_loss: 0.2256 - val_accuracy: 0.9286\n",
      "Epoch 47/430\n",
      "134/134 [==============================] - 82s 615ms/step - loss: 0.2115 - accuracy: 0.9291 - val_loss: 0.2246 - val_accuracy: 0.9282\n",
      "Epoch 48/430\n",
      "134/134 [==============================] - 67s 499ms/step - loss: 0.2104 - accuracy: 0.9310 - val_loss: 0.2234 - val_accuracy: 0.9272\n",
      "Epoch 49/430\n",
      "134/134 [==============================] - 60s 445ms/step - loss: 0.2071 - accuracy: 0.9331 - val_loss: 0.2240 - val_accuracy: 0.9254\n",
      "Epoch 50/430\n",
      "134/134 [==============================] - 64s 479ms/step - loss: 0.2103 - accuracy: 0.9304 - val_loss: 0.2212 - val_accuracy: 0.9272\n",
      "Epoch 51/430\n",
      "134/134 [==============================] - 88s 661ms/step - loss: 0.2096 - accuracy: 0.9288 - val_loss: 0.2206 - val_accuracy: 0.9300\n",
      "Epoch 52/430\n",
      "134/134 [==============================] - 59s 438ms/step - loss: 0.2043 - accuracy: 0.9351 - val_loss: 0.2209 - val_accuracy: 0.9277\n",
      "Epoch 53/430\n",
      "134/134 [==============================] - 60s 448ms/step - loss: 0.2057 - accuracy: 0.9311 - val_loss: 0.2184 - val_accuracy: 0.9291\n",
      "Epoch 54/430\n",
      "134/134 [==============================] - 76s 565ms/step - loss: 0.2031 - accuracy: 0.9320 - val_loss: 0.2217 - val_accuracy: 0.9258\n",
      "Epoch 55/430\n",
      "134/134 [==============================] - 76s 570ms/step - loss: 0.2043 - accuracy: 0.9310 - val_loss: 0.2196 - val_accuracy: 0.9277\n",
      "Epoch 56/430\n",
      "134/134 [==============================] - 59s 443ms/step - loss: 0.2006 - accuracy: 0.9313 - val_loss: 0.2178 - val_accuracy: 0.9277\n",
      "Epoch 57/430\n",
      "134/134 [==============================] - 60s 449ms/step - loss: 0.2011 - accuracy: 0.9324 - val_loss: 0.2169 - val_accuracy: 0.9286\n",
      "Epoch 58/430\n",
      "134/134 [==============================] - 89s 663ms/step - loss: 0.1972 - accuracy: 0.9349 - val_loss: 0.2181 - val_accuracy: 0.9277\n",
      "Epoch 59/430\n",
      "134/134 [==============================] - 64s 480ms/step - loss: 0.1995 - accuracy: 0.9364 - val_loss: 0.2192 - val_accuracy: 0.9291\n",
      "Epoch 60/430\n",
      "134/134 [==============================] - 60s 447ms/step - loss: 0.1975 - accuracy: 0.9359 - val_loss: 0.2194 - val_accuracy: 0.9277\n",
      "Epoch 61/430\n",
      "134/134 [==============================] - 73s 545ms/step - loss: 0.1955 - accuracy: 0.9365 - val_loss: 0.2153 - val_accuracy: 0.9305\n",
      "Epoch 62/430\n",
      "134/134 [==============================] - 78s 584ms/step - loss: 0.1907 - accuracy: 0.9359 - val_loss: 0.2161 - val_accuracy: 0.9282\n",
      "Epoch 63/430\n",
      "134/134 [==============================] - 59s 442ms/step - loss: 0.1949 - accuracy: 0.9337 - val_loss: 0.2170 - val_accuracy: 0.9272\n",
      "Epoch 64/430\n",
      "134/134 [==============================] - 60s 449ms/step - loss: 0.1932 - accuracy: 0.9362 - val_loss: 0.2135 - val_accuracy: 0.9300\n",
      "Epoch 65/430\n",
      "134/134 [==============================] - 86s 642ms/step - loss: 0.1930 - accuracy: 0.9369 - val_loss: 0.2149 - val_accuracy: 0.9286\n",
      "Epoch 66/430\n",
      "134/134 [==============================] - 65s 482ms/step - loss: 0.1901 - accuracy: 0.9353 - val_loss: 0.2131 - val_accuracy: 0.9305\n",
      "Epoch 67/430\n",
      "134/134 [==============================] - 60s 445ms/step - loss: 0.1905 - accuracy: 0.9364 - val_loss: 0.2134 - val_accuracy: 0.9296\n",
      "Epoch 68/430\n",
      "134/134 [==============================] - 60s 449ms/step - loss: 0.1905 - accuracy: 0.9375 - val_loss: 0.2128 - val_accuracy: 0.9286\n",
      "Epoch 69/430\n",
      "134/134 [==============================] - 83s 625ms/step - loss: 0.1863 - accuracy: 0.9360 - val_loss: 0.2129 - val_accuracy: 0.9277\n",
      "Epoch 70/430\n",
      "134/134 [==============================] - 67s 501ms/step - loss: 0.1823 - accuracy: 0.9395 - val_loss: 0.2105 - val_accuracy: 0.9305\n",
      "Epoch 71/430\n",
      "134/134 [==============================] - 60s 451ms/step - loss: 0.1839 - accuracy: 0.9391 - val_loss: 0.2103 - val_accuracy: 0.9315\n",
      "Epoch 72/430\n",
      "134/134 [==============================] - 65s 488ms/step - loss: 0.1834 - accuracy: 0.9405 - val_loss: 0.2109 - val_accuracy: 0.9296\n",
      "Epoch 73/430\n",
      "134/134 [==============================] - 85s 638ms/step - loss: 0.1851 - accuracy: 0.9379 - val_loss: 0.2112 - val_accuracy: 0.9296\n",
      "Epoch 74/430\n",
      "134/134 [==============================] - 59s 442ms/step - loss: 0.1853 - accuracy: 0.9381 - val_loss: 0.2107 - val_accuracy: 0.9291\n",
      "Epoch 75/430\n",
      "134/134 [==============================] - 60s 449ms/step - loss: 0.1828 - accuracy: 0.9403 - val_loss: 0.2125 - val_accuracy: 0.9277\n",
      "Epoch 76/430\n",
      "134/134 [==============================] - 71s 529ms/step - loss: 0.1803 - accuracy: 0.9388 - val_loss: 0.2103 - val_accuracy: 0.9310\n",
      "Epoch 77/430\n",
      "134/134 [==============================] - 81s 605ms/step - loss: 0.1817 - accuracy: 0.9387 - val_loss: 0.2092 - val_accuracy: 0.9300\n",
      "Epoch 78/430\n",
      "134/134 [==============================] - 59s 442ms/step - loss: 0.1776 - accuracy: 0.9399 - val_loss: 0.2071 - val_accuracy: 0.9319\n",
      "Epoch 79/430\n",
      "134/134 [==============================] - 60s 449ms/step - loss: 0.1775 - accuracy: 0.9407 - val_loss: 0.2095 - val_accuracy: 0.9291\n",
      "Epoch 80/430\n",
      "134/134 [==============================] - 76s 566ms/step - loss: 0.1769 - accuracy: 0.9402 - val_loss: 0.2074 - val_accuracy: 0.9305\n",
      "Epoch 81/430\n",
      "134/134 [==============================] - 75s 557ms/step - loss: 0.1727 - accuracy: 0.9421 - val_loss: 0.2072 - val_accuracy: 0.9315\n",
      "Epoch 82/430\n",
      "134/134 [==============================] - 60s 450ms/step - loss: 0.1759 - accuracy: 0.9435 - val_loss: 0.2072 - val_accuracy: 0.9296\n",
      "Epoch 83/430\n",
      "134/134 [==============================] - 60s 452ms/step - loss: 0.1719 - accuracy: 0.9440 - val_loss: 0.2068 - val_accuracy: 0.9305\n",
      "Epoch 84/430\n",
      "134/134 [==============================] - 85s 640ms/step - loss: 0.1729 - accuracy: 0.9409 - val_loss: 0.2058 - val_accuracy: 0.9310\n",
      "Epoch 85/430\n",
      "134/134 [==============================] - 64s 480ms/step - loss: 0.1698 - accuracy: 0.9447 - val_loss: 0.2066 - val_accuracy: 0.9291\n",
      "Epoch 86/430\n",
      "134/134 [==============================] - 60s 446ms/step - loss: 0.1733 - accuracy: 0.9405 - val_loss: 0.2040 - val_accuracy: 0.9329\n",
      "Epoch 87/430\n",
      "134/134 [==============================] - 60s 450ms/step - loss: 0.1681 - accuracy: 0.9456 - val_loss: 0.2057 - val_accuracy: 0.9324\n",
      "Epoch 88/430\n",
      "134/134 [==============================] - 88s 660ms/step - loss: 0.1678 - accuracy: 0.9439 - val_loss: 0.2033 - val_accuracy: 0.9333\n",
      "Epoch 89/430\n",
      "134/134 [==============================] - 60s 449ms/step - loss: 0.1718 - accuracy: 0.9439 - val_loss: 0.2067 - val_accuracy: 0.9300\n",
      "Epoch 90/430\n",
      "134/134 [==============================] - 60s 448ms/step - loss: 0.1706 - accuracy: 0.9435 - val_loss: 0.2061 - val_accuracy: 0.9296\n",
      "Epoch 91/430\n",
      "134/134 [==============================] - 60s 452ms/step - loss: 0.1667 - accuracy: 0.9426 - val_loss: 0.2035 - val_accuracy: 0.9329\n",
      "Epoch 92/430\n",
      "134/134 [==============================] - 88s 661ms/step - loss: 0.1700 - accuracy: 0.9425 - val_loss: 0.2056 - val_accuracy: 0.9300\n",
      "Epoch 93/430\n",
      "134/134 [==============================] - 60s 450ms/step - loss: 0.1708 - accuracy: 0.9448 - val_loss: 0.2048 - val_accuracy: 0.9319\n",
      "Epoch 94/430\n",
      "134/134 [==============================] - 60s 448ms/step - loss: 0.1607 - accuracy: 0.9483 - val_loss: 0.2044 - val_accuracy: 0.9329\n",
      "Epoch 95/430\n",
      "134/134 [==============================] - 62s 465ms/step - loss: 0.1693 - accuracy: 0.9442 - val_loss: 0.2043 - val_accuracy: 0.9338\n",
      "Epoch 96/430\n",
      "134/134 [==============================] - 88s 655ms/step - loss: 0.1655 - accuracy: 0.9453 - val_loss: 0.2061 - val_accuracy: 0.9324\n",
      "Epoch 97/430\n",
      "134/134 [==============================] - 59s 440ms/step - loss: 0.1656 - accuracy: 0.9434 - val_loss: 0.2043 - val_accuracy: 0.9319\n",
      "Epoch 98/430\n",
      "134/134 [==============================] - 60s 450ms/step - loss: 0.1626 - accuracy: 0.9480 - val_loss: 0.2069 - val_accuracy: 0.9300\n",
      "Epoch 99/430\n",
      "134/134 [==============================] - 65s 485ms/step - loss: 0.1680 - accuracy: 0.9439 - val_loss: 0.2043 - val_accuracy: 0.9315\n",
      "Epoch 100/430\n",
      "134/134 [==============================] - 87s 649ms/step - loss: 0.1616 - accuracy: 0.9439 - val_loss: 0.2037 - val_accuracy: 0.9319\n",
      "Epoch 101/430\n",
      "134/134 [==============================] - 59s 441ms/step - loss: 0.1594 - accuracy: 0.9504 - val_loss: 0.2047 - val_accuracy: 0.9324\n",
      "Epoch 102/430\n",
      "134/134 [==============================] - 60s 450ms/step - loss: 0.1590 - accuracy: 0.9499 - val_loss: 0.2035 - val_accuracy: 0.9296\n",
      "Epoch 103/430\n",
      "134/134 [==============================] - 79s 594ms/step - loss: 0.1625 - accuracy: 0.9455 - val_loss: 0.2023 - val_accuracy: 0.9338\n",
      "Epoch 104/430\n",
      "134/134 [==============================] - 74s 554ms/step - loss: 0.1595 - accuracy: 0.9460 - val_loss: 0.2018 - val_accuracy: 0.9338\n",
      "Epoch 105/430\n",
      "134/134 [==============================] - 60s 446ms/step - loss: 0.1578 - accuracy: 0.9473 - val_loss: 0.2009 - val_accuracy: 0.9347\n",
      "Epoch 106/430\n",
      "134/134 [==============================] - 61s 452ms/step - loss: 0.1534 - accuracy: 0.9450 - val_loss: 0.2030 - val_accuracy: 0.9333\n",
      "Epoch 107/430\n",
      "134/134 [==============================] - 91s 678ms/step - loss: 0.1577 - accuracy: 0.9483 - val_loss: 0.2016 - val_accuracy: 0.9329\n",
      "Epoch 108/430\n",
      "134/134 [==============================] - 60s 449ms/step - loss: 0.1602 - accuracy: 0.9449 - val_loss: 0.2047 - val_accuracy: 0.9310\n",
      "Epoch 109/430\n",
      "134/134 [==============================] - 60s 450ms/step - loss: 0.1557 - accuracy: 0.9486 - val_loss: 0.2016 - val_accuracy: 0.9333\n",
      "Epoch 110/430\n",
      "134/134 [==============================] - 77s 579ms/step - loss: 0.1550 - accuracy: 0.9482 - val_loss: 0.2002 - val_accuracy: 0.9347\n",
      "Epoch 111/430\n",
      "134/134 [==============================] - 74s 554ms/step - loss: 0.1535 - accuracy: 0.9509 - val_loss: 0.1996 - val_accuracy: 0.9343\n",
      "Epoch 112/430\n",
      "134/134 [==============================] - 60s 447ms/step - loss: 0.1529 - accuracy: 0.9489 - val_loss: 0.2025 - val_accuracy: 0.9329\n",
      "Epoch 113/430\n",
      "134/134 [==============================] - 61s 454ms/step - loss: 0.1547 - accuracy: 0.9492 - val_loss: 0.1984 - val_accuracy: 0.9357\n",
      "Epoch 114/430\n",
      "134/134 [==============================] - 90s 673ms/step - loss: 0.1535 - accuracy: 0.9509 - val_loss: 0.2022 - val_accuracy: 0.9319\n",
      "Epoch 115/430\n",
      "134/134 [==============================] - 62s 461ms/step - loss: 0.1523 - accuracy: 0.9507 - val_loss: 0.1979 - val_accuracy: 0.9347\n",
      "Epoch 116/430\n",
      "134/134 [==============================] - 61s 458ms/step - loss: 0.1504 - accuracy: 0.9499 - val_loss: 0.2005 - val_accuracy: 0.9352\n",
      "Epoch 117/430\n",
      "134/134 [==============================] - 77s 575ms/step - loss: 0.1507 - accuracy: 0.9479 - val_loss: 0.2000 - val_accuracy: 0.9347\n",
      "Epoch 118/430\n",
      "134/134 [==============================] - 77s 578ms/step - loss: 0.1537 - accuracy: 0.9490 - val_loss: 0.1997 - val_accuracy: 0.9333\n",
      "Epoch 119/430\n",
      "134/134 [==============================] - 61s 453ms/step - loss: 0.1521 - accuracy: 0.9477 - val_loss: 0.1976 - val_accuracy: 0.9371\n",
      "Epoch 120/430\n",
      "134/134 [==============================] - 65s 484ms/step - loss: 0.1487 - accuracy: 0.9496 - val_loss: 0.2019 - val_accuracy: 0.9324\n",
      "Epoch 121/430\n",
      "134/134 [==============================] - 90s 671ms/step - loss: 0.1483 - accuracy: 0.9528 - val_loss: 0.1985 - val_accuracy: 0.9357\n",
      "Epoch 122/430\n",
      "134/134 [==============================] - 59s 439ms/step - loss: 0.1486 - accuracy: 0.9481 - val_loss: 0.2015 - val_accuracy: 0.9338\n",
      "Epoch 123/430\n",
      "134/134 [==============================] - 60s 450ms/step - loss: 0.1477 - accuracy: 0.9519 - val_loss: 0.2014 - val_accuracy: 0.9315\n",
      "Epoch 124/430\n",
      "134/134 [==============================] - 76s 565ms/step - loss: 0.1453 - accuracy: 0.9516 - val_loss: 0.1972 - val_accuracy: 0.9376\n",
      "Epoch 125/430\n",
      "134/134 [==============================] - 77s 578ms/step - loss: 0.1477 - accuracy: 0.9490 - val_loss: 0.2008 - val_accuracy: 0.9319\n",
      "Epoch 126/430\n",
      "134/134 [==============================] - 60s 446ms/step - loss: 0.1472 - accuracy: 0.9495 - val_loss: 0.2021 - val_accuracy: 0.9324\n",
      "Epoch 127/430\n",
      "134/134 [==============================] - 63s 470ms/step - loss: 0.1454 - accuracy: 0.9502 - val_loss: 0.1976 - val_accuracy: 0.9362\n",
      "Epoch 128/430\n",
      "134/134 [==============================] - 91s 677ms/step - loss: 0.1493 - accuracy: 0.9503 - val_loss: 0.1957 - val_accuracy: 0.9376\n",
      "Epoch 129/430\n",
      "134/134 [==============================] - 62s 460ms/step - loss: 0.1447 - accuracy: 0.9509 - val_loss: 0.1979 - val_accuracy: 0.9357\n",
      "Epoch 130/430\n",
      "134/134 [==============================] - 60s 447ms/step - loss: 0.1417 - accuracy: 0.9531 - val_loss: 0.1976 - val_accuracy: 0.9357\n",
      "Epoch 131/430\n",
      "134/134 [==============================] - 67s 503ms/step - loss: 0.1432 - accuracy: 0.9541 - val_loss: 0.2046 - val_accuracy: 0.9310\n",
      "Epoch 132/430\n",
      "134/134 [==============================] - 85s 633ms/step - loss: 0.1437 - accuracy: 0.9519 - val_loss: 0.2003 - val_accuracy: 0.9343\n",
      "Epoch 133/430\n",
      "134/134 [==============================] - 59s 443ms/step - loss: 0.1407 - accuracy: 0.9543 - val_loss: 0.1951 - val_accuracy: 0.9357\n",
      "Epoch 134/430\n",
      "134/134 [==============================] - 60s 449ms/step - loss: 0.1449 - accuracy: 0.9512 - val_loss: 0.1959 - val_accuracy: 0.9357\n",
      "Epoch 135/430\n",
      "134/134 [==============================] - 78s 584ms/step - loss: 0.1439 - accuracy: 0.9519 - val_loss: 0.1996 - val_accuracy: 0.9343\n",
      "Epoch 136/430\n",
      "134/134 [==============================] - 73s 547ms/step - loss: 0.1446 - accuracy: 0.9534 - val_loss: 0.1971 - val_accuracy: 0.9366\n",
      "Epoch 137/430\n",
      "134/134 [==============================] - 60s 447ms/step - loss: 0.1408 - accuracy: 0.9522 - val_loss: 0.1959 - val_accuracy: 0.9376\n",
      "Epoch 138/430\n",
      "134/134 [==============================] - 62s 463ms/step - loss: 0.1378 - accuracy: 0.9541 - val_loss: 0.1974 - val_accuracy: 0.9366\n",
      "Epoch 139/430\n",
      "134/134 [==============================] - 90s 672ms/step - loss: 0.1405 - accuracy: 0.9529 - val_loss: 0.1935 - val_accuracy: 0.9366\n",
      "Epoch 140/430\n",
      "134/134 [==============================] - 59s 443ms/step - loss: 0.1385 - accuracy: 0.9539 - val_loss: 0.1958 - val_accuracy: 0.9390\n",
      "Epoch 141/430\n",
      "134/134 [==============================] - 60s 450ms/step - loss: 0.1421 - accuracy: 0.9516 - val_loss: 0.1966 - val_accuracy: 0.9357\n",
      "Epoch 142/430\n",
      "134/134 [==============================] - 71s 529ms/step - loss: 0.1403 - accuracy: 0.9524 - val_loss: 0.1990 - val_accuracy: 0.9343\n",
      "Epoch 143/430\n",
      "134/134 [==============================] - 81s 607ms/step - loss: 0.1381 - accuracy: 0.9536 - val_loss: 0.1979 - val_accuracy: 0.9347\n",
      "Epoch 144/430\n",
      "134/134 [==============================] - 59s 443ms/step - loss: 0.1382 - accuracy: 0.9527 - val_loss: 0.1959 - val_accuracy: 0.9347\n",
      "Epoch 145/430\n",
      "134/134 [==============================] - 60s 449ms/step - loss: 0.1381 - accuracy: 0.9530 - val_loss: 0.1977 - val_accuracy: 0.9371\n",
      "Epoch 146/430\n",
      "134/134 [==============================] - 69s 513ms/step - loss: 0.1388 - accuracy: 0.9542 - val_loss: 0.2008 - val_accuracy: 0.9333\n",
      "Epoch 147/430\n",
      "134/134 [==============================] - 81s 606ms/step - loss: 0.1362 - accuracy: 0.9551 - val_loss: 0.1963 - val_accuracy: 0.9371\n",
      "Epoch 148/430\n",
      "134/134 [==============================] - 59s 441ms/step - loss: 0.1369 - accuracy: 0.9544 - val_loss: 0.1970 - val_accuracy: 0.9352\n",
      "Epoch 149/430\n",
      "134/134 [==============================] - 60s 449ms/step - loss: 0.1365 - accuracy: 0.9531 - val_loss: 0.1981 - val_accuracy: 0.9352\n",
      "Epoch 150/430\n",
      "134/134 [==============================] - 75s 562ms/step - loss: 0.1329 - accuracy: 0.9551 - val_loss: 0.1965 - val_accuracy: 0.9362\n",
      "Epoch 151/430\n",
      "134/134 [==============================] - 77s 577ms/step - loss: 0.1370 - accuracy: 0.9561 - val_loss: 0.1989 - val_accuracy: 0.9343\n",
      "Epoch 152/430\n",
      "134/134 [==============================] - 60s 449ms/step - loss: 0.1337 - accuracy: 0.9570 - val_loss: 0.1960 - val_accuracy: 0.9371\n",
      "Epoch 153/430\n",
      "134/134 [==============================] - 67s 501ms/step - loss: 0.1382 - accuracy: 0.9540 - val_loss: 0.1950 - val_accuracy: 0.9357\n",
      "Epoch 154/430\n",
      "134/134 [==============================] - 88s 660ms/step - loss: 0.1315 - accuracy: 0.9557 - val_loss: 0.1941 - val_accuracy: 0.9371\n",
      "Epoch 155/430\n",
      "134/134 [==============================] - 59s 441ms/step - loss: 0.1308 - accuracy: 0.9556 - val_loss: 0.1977 - val_accuracy: 0.9366\n",
      "Epoch 156/430\n",
      "134/134 [==============================] - 61s 453ms/step - loss: 0.1344 - accuracy: 0.9537 - val_loss: 0.1994 - val_accuracy: 0.9319\n",
      "Epoch 157/430\n",
      "134/134 [==============================] - 82s 614ms/step - loss: 0.1327 - accuracy: 0.9571 - val_loss: 0.1961 - val_accuracy: 0.9357\n",
      "Epoch 158/430\n",
      "134/134 [==============================] - 73s 545ms/step - loss: 0.1319 - accuracy: 0.9556 - val_loss: 0.2016 - val_accuracy: 0.9329\n",
      "Epoch 159/430\n",
      "134/134 [==============================] - 59s 444ms/step - loss: 0.1304 - accuracy: 0.9573 - val_loss: 0.1979 - val_accuracy: 0.9343\n",
      "Epoch 160/430\n",
      "134/134 [==============================] - 60s 449ms/step - loss: 0.1332 - accuracy: 0.9558 - val_loss: 0.1957 - val_accuracy: 0.9385\n",
      "Epoch 161/430\n",
      "134/134 [==============================] - 81s 605ms/step - loss: 0.1302 - accuracy: 0.9576 - val_loss: 0.1962 - val_accuracy: 0.9376\n",
      "Epoch 162/430\n",
      "134/134 [==============================] - 70s 519ms/step - loss: 0.1286 - accuracy: 0.9561 - val_loss: 0.1945 - val_accuracy: 0.9376\n",
      "Epoch 163/430\n",
      "134/134 [==============================] - 59s 444ms/step - loss: 0.1283 - accuracy: 0.9575 - val_loss: 0.2008 - val_accuracy: 0.9343\n",
      "Epoch 164/430\n",
      "134/134 [==============================] - 60s 451ms/step - loss: 0.1306 - accuracy: 0.9558 - val_loss: 0.1934 - val_accuracy: 0.9390\n",
      "Epoch 165/430\n",
      "134/134 [==============================] - 85s 636ms/step - loss: 0.1273 - accuracy: 0.9585 - val_loss: 0.1937 - val_accuracy: 0.9371\n",
      "Epoch 166/430\n",
      "134/134 [==============================] - 65s 482ms/step - loss: 0.1291 - accuracy: 0.9558 - val_loss: 0.1996 - val_accuracy: 0.9352\n",
      "Epoch 167/430\n",
      "134/134 [==============================] - 60s 449ms/step - loss: 0.1278 - accuracy: 0.9568 - val_loss: 0.1981 - val_accuracy: 0.9333\n",
      "Epoch 168/430\n",
      "134/134 [==============================] - 70s 522ms/step - loss: 0.1271 - accuracy: 0.9575 - val_loss: 0.2020 - val_accuracy: 0.9329\n",
      "Epoch 169/430\n",
      "134/134 [==============================] - 80s 599ms/step - loss: 0.1242 - accuracy: 0.9587 - val_loss: 0.1947 - val_accuracy: 0.9385\n",
      "Epoch 170/430\n",
      "134/134 [==============================] - 59s 441ms/step - loss: 0.1257 - accuracy: 0.9544 - val_loss: 0.1945 - val_accuracy: 0.9380\n",
      "Epoch 171/430\n",
      "134/134 [==============================] - 61s 455ms/step - loss: 0.1222 - accuracy: 0.9602 - val_loss: 0.1994 - val_accuracy: 0.9362\n",
      "Epoch 172/430\n",
      "134/134 [==============================] - 84s 626ms/step - loss: 0.1267 - accuracy: 0.9591 - val_loss: 0.1985 - val_accuracy: 0.9333\n",
      "Epoch 173/430\n",
      "134/134 [==============================] - 71s 528ms/step - loss: 0.1272 - accuracy: 0.9585 - val_loss: 0.1958 - val_accuracy: 0.9385\n",
      "Epoch 174/430\n",
      "134/134 [==============================] - 60s 447ms/step - loss: 0.1232 - accuracy: 0.9595 - val_loss: 0.1968 - val_accuracy: 0.9366\n",
      "Epoch 175/430\n",
      "134/134 [==============================] - 71s 530ms/step - loss: 0.1223 - accuracy: 0.9595 - val_loss: 0.1934 - val_accuracy: 0.9366\n",
      "Epoch 176/430\n",
      "134/134 [==============================] - 84s 630ms/step - loss: 0.1228 - accuracy: 0.9608 - val_loss: 0.2006 - val_accuracy: 0.9347\n",
      "Epoch 177/430\n",
      "134/134 [==============================] - 60s 445ms/step - loss: 0.1255 - accuracy: 0.9582 - val_loss: 0.2001 - val_accuracy: 0.9315\n",
      "Epoch 178/430\n",
      "134/134 [==============================] - 62s 463ms/step - loss: 0.1222 - accuracy: 0.9583 - val_loss: 0.2015 - val_accuracy: 0.9347\n",
      "Epoch 179/430\n",
      "134/134 [==============================] - 93s 695ms/step - loss: 0.1225 - accuracy: 0.9584 - val_loss: 0.1981 - val_accuracy: 0.9347\n",
      "Epoch 180/430\n",
      "134/134 [==============================] - 67s 500ms/step - loss: 0.1220 - accuracy: 0.9597 - val_loss: 0.1945 - val_accuracy: 0.9380\n",
      "Epoch 181/430\n",
      "134/134 [==============================] - 61s 453ms/step - loss: 0.1258 - accuracy: 0.9597 - val_loss: 0.2013 - val_accuracy: 0.9362\n",
      "Epoch 182/430\n",
      "134/134 [==============================] - 84s 630ms/step - loss: 0.1215 - accuracy: 0.9608 - val_loss: 0.1955 - val_accuracy: 0.9371\n",
      "Epoch 183/430\n",
      "134/134 [==============================] - 74s 554ms/step - loss: 0.1216 - accuracy: 0.9574 - val_loss: 0.1955 - val_accuracy: 0.9385\n",
      "Epoch 184/430\n",
      "134/134 [==============================] - 60s 449ms/step - loss: 0.1223 - accuracy: 0.9587 - val_loss: 0.2033 - val_accuracy: 0.9315\n",
      "Epoch 185/430\n",
      "134/134 [==============================] - 76s 566ms/step - loss: 0.1181 - accuracy: 0.9595 - val_loss: 0.1959 - val_accuracy: 0.9343\n",
      "Epoch 186/430\n",
      "134/134 [==============================] - 81s 609ms/step - loss: 0.1211 - accuracy: 0.9588 - val_loss: 0.1944 - val_accuracy: 0.9399\n",
      "Epoch 187/430\n",
      "134/134 [==============================] - 60s 446ms/step - loss: 0.1192 - accuracy: 0.9617 - val_loss: 0.1968 - val_accuracy: 0.9380\n",
      "Epoch 188/430\n",
      "134/134 [==============================] - 65s 489ms/step - loss: 0.1154 - accuracy: 0.9631 - val_loss: 0.1963 - val_accuracy: 0.9366\n",
      "Epoch 189/430\n",
      "134/134 [==============================] - 91s 678ms/step - loss: 0.1168 - accuracy: 0.9629 - val_loss: 0.1959 - val_accuracy: 0.9390\n",
      "Epoch 190/430\n",
      "134/134 [==============================] - 63s 469ms/step - loss: 0.1186 - accuracy: 0.9596 - val_loss: 0.1967 - val_accuracy: 0.9380\n",
      "Epoch 191/430\n",
      "134/134 [==============================] - 63s 474ms/step - loss: 0.1185 - accuracy: 0.9608 - val_loss: 0.1936 - val_accuracy: 0.9380\n",
      "Epoch 192/430\n",
      "134/134 [==============================] - 92s 687ms/step - loss: 0.1160 - accuracy: 0.9632 - val_loss: 0.1977 - val_accuracy: 0.9362\n",
      "Epoch 193/430\n",
      "134/134 [==============================] - 69s 512ms/step - loss: 0.1220 - accuracy: 0.9585 - val_loss: 0.1944 - val_accuracy: 0.9385\n",
      "Epoch 194/430\n",
      "134/134 [==============================] - 61s 458ms/step - loss: 0.1166 - accuracy: 0.9605 - val_loss: 0.1937 - val_accuracy: 0.9371\n"
     ]
    }
   ],
   "source": [
    "#lead aVR\n",
    "history = model.fit([training_data, mlp_train_X], y_train, epochs = 430, batch_size=64, validation_data= ([testing_data, mlp_test_X], y_test), callbacks=callback)"
   ]
  },
  {
   "cell_type": "code",
   "execution_count": 27,
   "id": "27fead67",
   "metadata": {},
   "outputs": [],
   "source": [
    "def plot_learningCurve(history, epochs):\n",
    "  # Plot training & validation accuracy values\n",
    "  epoch_range = range(1, epochs+1)\n",
    "  plt.plot(epoch_range, history.history['accuracy'])\n",
    "  plt.plot(epoch_range, history.history['val_accuracy'])\n",
    "  plt.title('Model accuracy')\n",
    "  plt.ylabel('Accuracy')\n",
    "  plt.xlabel('Epoch')\n",
    "  plt.legend(['Train', 'Val'], loc='lower right')\n",
    "  plt.show()\n",
    "\n",
    "  # Plot training & validation loss values\n",
    "  plt.plot(epoch_range, history.history['loss'])\n",
    "  plt.plot(epoch_range, history.history['val_loss'])\n",
    "  plt.title('Model loss')\n",
    "  plt.ylabel('Loss')\n",
    "  plt.xlabel('Epoch')\n",
    "  plt.legend(['Train', 'Val'], loc='upper right')\n",
    "  plt.show()"
   ]
  },
  {
   "cell_type": "code",
   "execution_count": 28,
   "id": "bbc040ad",
   "metadata": {},
   "outputs": [
    {
     "data": {
      "image/png": "[encoded data removed]",
      "text/plain": [
       "<Figure size 432x288 with 1 Axes>"
      ]
     },
     "metadata": {
      "needs_background": "light"
     },
     "output_type": "display_data"
    },
    {
     "data": {
      "image/png": "[encoded data removed]",
      "text/plain": [
       "<Figure size 432x288 with 1 Axes>"
      ]
     },
     "metadata": {
      "needs_background": "light"
     },
     "output_type": "display_data"
    }
   ],
   "source": [
    "plot_learningCurve(history, 194)"
   ]
  },
  {
   "cell_type": "code",
   "execution_count": 29,
   "id": "03fca01b",
   "metadata": {},
   "outputs": [],
   "source": [
    "preds = model.predict([testing_data, mlp_test_X])"
   ]
  },
  {
   "cell_type": "code",
   "execution_count": 30,
   "id": "db894e2b",
   "metadata": {},
   "outputs": [],
   "source": [
    "classes_x=np.argmax(preds,axis=1)\n",
    "rounded_labels=np.argmax(y_test, axis=1)"
   ]
  },
  {
   "cell_type": "code",
   "execution_count": 31,
   "id": "0d5ebe36",
   "metadata": {},
   "outputs": [],
   "source": [
    "import sklearn.metrics as metrics"
   ]
  },
  {
   "cell_type": "code",
   "execution_count": 33,
   "id": "baa2fbe6",
   "metadata": {},
   "outputs": [],
   "source": [
    "import seaborn as sns"
   ]
  },
  {
   "cell_type": "code",
   "execution_count": 34,
   "id": "3b4aacb4",
   "metadata": {},
   "outputs": [],
   "source": [
    "def confusion_matrix(y, y_pred):\n",
    "    labels=[ 'AFIB','GSVT', 'SB', 'SR']\n",
    "    matrix = metrics.confusion_matrix(y, y_pred)\n",
    "    plt.figure(figsize=(9, 6))\n",
    "    ax= sns.heatmap(matrix, cmap='coolwarm', linecolor='white', linewidths=1, xticklabels=labels, yticklabels=labels, annot=True, fmt='d')\n",
    "    #bottom, top = ax.get_ylim()\n",
    "    #ax.set_ylim(bottom + 0.5, top - 0.5)\n",
    "    plt.title('Confusion Matrix')\n",
    "    plt.ylabel('True Label')\n",
    "    plt.xlabel('Predicted Label')\n",
    "    plt.show()"
   ]
  },
  {
   "cell_type": "code",
   "execution_count": 35,
   "id": "70a85952",
   "metadata": {},
   "outputs": [
    {
     "data": {
      "image/png": "[encoded data removed]",
      "text/plain": [
       "<Figure size 648x432 with 2 Axes>"
      ]
     },
     "metadata": {
      "needs_background": "light"
     },
     "output_type": "display_data"
    }
   ],
   "source": [
    "confusion_matrix(rounded_labels, classes_x)"
   ]
  },
  {
   "cell_type": "code",
   "execution_count": 36,
   "id": "3164d53a",
   "metadata": {},
   "outputs": [],
   "source": [
    "from sklearn.metrics import classification_report"
   ]
  },
  {
   "cell_type": "code",
   "execution_count": 37,
   "id": "40862430",
   "metadata": {},
   "outputs": [
    {
     "name": "stdout",
     "output_type": "stream",
     "text": [
      "              precision    recall  f1-score   support\n",
      "\n",
      "           0       0.90      0.89      0.89       436\n",
      "           1       0.92      0.91      0.92       483\n",
      "           2       0.97      0.99      0.98       755\n",
      "           3       0.94      0.92      0.93       456\n",
      "\n",
      "    accuracy                           0.94      2130\n",
      "   macro avg       0.93      0.93      0.93      2130\n",
      "weighted avg       0.94      0.94      0.94      2130\n",
      "\n"
     ]
    }
   ],
   "source": [
    "print(classification_report(rounded_labels, classes_x))"
   ]
  },
  {
   "cell_type": "code",
   "execution_count": null,
   "id": "2389a020",
   "metadata": {},
   "outputs": [],
   "source": []
  }
 ],
 "metadata": {
  "kernelspec": {
   "display_name": "Python 3",
   "language": "python",
   "name": "python3"
  },
  "language_info": {
   "codemirror_mode": {
    "name": "ipython",
    "version": 3
   },
   "file_extension": ".py",
   "mimetype": "text/x-python",
   "name": "python",
   "nbconvert_exporter": "python",
   "pygments_lexer": "ipython3",
   "version": "3.8.10"
  }
 },
 "nbformat": 4,
 "nbformat_minor": 5
}
