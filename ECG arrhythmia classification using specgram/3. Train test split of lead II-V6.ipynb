{
 "cells": [
  {
   "cell_type": "code",
   "execution_count": 1,
   "id": "6fc6743b",
   "metadata": {},
   "outputs": [],
   "source": [
    "import pandas as pd\n",
    "import glob\n",
    "import shutil\n",
    "import numpy as np\n",
    "import random"
   ]
  },
  {
   "cell_type": "code",
   "execution_count": null,
   "id": "b6bacb1d",
   "metadata": {},
   "outputs": [],
   "source": [
    "path=\"F:/denoised/split/I/train_I\"\n",
    "files=glob.glob(path+'/*.png')\n",
    "A=[]\n",
    "for file in files:\n",
    "    path= file.split('\\\\')[-1]\n",
    "    path= path.split('.')[0]\n",
    "    A.append(path)\n",
    "print(A)"
   ]
  },
  {
   "cell_type": "code",
   "execution_count": 3,
   "id": "6044aa8d",
   "metadata": {},
   "outputs": [
    {
     "data": {
      "text/plain": [
       "(8516,)"
      ]
     },
     "execution_count": 3,
     "metadata": {},
     "output_type": "execute_result"
    }
   ],
   "source": [
    "np.shape(A)"
   ]
  },
  {
   "cell_type": "code",
   "execution_count": null,
   "id": "76f902bd",
   "metadata": {},
   "outputs": [],
   "source": [
    "path=\"F:/denoised/specgram/lead_II\"\n",
    "files=glob.glob(path+'/*.png')\n",
    "print(files)"
   ]
  },
  {
   "cell_type": "code",
   "execution_count": 5,
   "id": "f978a2f6",
   "metadata": {},
   "outputs": [],
   "source": [
    "for file in files:\n",
    "    path= file.split('\\\\')[-1]\n",
    "    path= path.split('.')[0]\n",
    "    i=0\n",
    "    for i in range(8516):\n",
    "        if path==A[i]:\n",
    "            shutil.copy(file, \"F:/denoised/split/II/train_II/\")\n",
    "        #print(i)\n",
    "        i+=1"
   ]
  },
  {
   "cell_type": "code",
   "execution_count": 6,
   "id": "80cca2bc",
   "metadata": {},
   "outputs": [],
   "source": [
    "import os\n",
    "\n",
    "path, dirs, files = next(os.walk(\"F:/denoised/split/II/train_II\"))\n",
    "file_count = len(files)"
   ]
  },
  {
   "cell_type": "code",
   "execution_count": 7,
   "id": "956419cf",
   "metadata": {},
   "outputs": [
    {
     "name": "stdout",
     "output_type": "stream",
     "text": [
      "8516\n"
     ]
    }
   ],
   "source": [
    "print(file_count)"
   ]
  },
  {
   "cell_type": "code",
   "execution_count": null,
   "id": "e7f9736c",
   "metadata": {},
   "outputs": [],
   "source": []
  },
  {
   "cell_type": "code",
   "execution_count": null,
   "id": "be522162",
   "metadata": {},
   "outputs": [],
   "source": []
  }
 ],
 "metadata": {
  "kernelspec": {
   "display_name": "Python 3",
   "language": "python",
   "name": "python3"
  },
  "language_info": {
   "codemirror_mode": {
    "name": "ipython",
    "version": 3
   },
   "file_extension": ".py",
   "mimetype": "text/x-python",
   "name": "python",
   "nbconvert_exporter": "python",
   "pygments_lexer": "ipython3",
   "version": "3.8.10"
  }
 },
 "nbformat": 4,
 "nbformat_minor": 5
}
