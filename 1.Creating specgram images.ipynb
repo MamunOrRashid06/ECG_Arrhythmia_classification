{
 "cells": [
  {
   "cell_type": "markdown",
   "id": "e1ee6d3b",
   "metadata": {},
   "source": [
    "We create specgram images for all ECG signals. At a time we create images for a single lead."
   ]
  },
  {
   "cell_type": "code",
   "execution_count": null,
   "id": "0cfc5067",
   "metadata": {},
   "outputs": [],
   "source": [
    "#Import Required Modules\n",
    "import pandas as pd\n",
    "import glob"
   ]
  },
  {
   "cell_type": "code",
   "execution_count": 2,
   "id": "99b58f89",
   "metadata": {},
   "outputs": [],
   "source": [
    "path=\"F:/denoised/ECGDataDenoised\"\n",
    "files=glob.glob(path+'/*.csv')"
   ]
  },
  {
   "cell_type": "code",
   "execution_count": 3,
   "id": "b2045ccf",
   "metadata": {},
   "outputs": [],
   "source": [
    "header=['I', 'II', 'III', 'aVR', 'aVL', 'aVF', 'V1', 'V2', 'V3', 'V4', 'V5', 'V6']"
   ]
  },
  {
   "cell_type": "markdown",
   "id": "6906f136",
   "metadata": {},
   "source": [
    "For Lead I, i=0. we must change this for different lead like for II: i=1; III: i=2; aVR: i=3."
   ]
  },
  {
   "cell_type": "code",
   "execution_count": 6,
   "id": "9fe4e384",
   "metadata": {},
   "outputs": [],
   "source": [
    "i=0\n",
    "for file in files:\n",
    "    path= file.split('\\\\')[-1]\n",
    "    path= path.split('.')[0]\n",
    "    df1=pd.read_csv(file, usecols=[i], index_col=None)\n",
    "    plt.subplots(frameon=True, figsize=(4, 4)) \n",
    "    plt.axis('off')\n",
    "    plt.specgram(df1['I'], NFFT=150, Fs=500, noverlap=75, cmap='jet_r')\n",
    "    plt.savefig('F:/denoised/specgram/aVL/lead_aVL_150/'+str(path)+'.png')\n",
    "    plt.close()"
   ]
  },
  {
   "cell_type": "code",
   "execution_count": 8,
   "id": "900ce09b",
   "metadata": {},
   "outputs": [],
   "source": [
    "import os\n",
    "\n",
    "path, dirs, files = next(os.walk(\"F:/denoised/specgram/aVL/lead_aVL_150\"))\n",
    "file_count = len(files)"
   ]
  },
  {
   "cell_type": "code",
   "execution_count": 9,
   "id": "cb4a0034",
   "metadata": {},
   "outputs": [],
   "source": [
    "print(file_count)"
   ]
  },
  {
   "cell_type": "code",
   "execution_count": null,
   "id": "48111dfa",
   "metadata": {},
   "outputs": [],
   "source": []
  }
 ],
 "metadata": {
  "kernelspec": {
   "display_name": "Python 3",
   "language": "python",
   "name": "python3"
  },
  "language_info": {
   "codemirror_mode": {
    "name": "ipython",
    "version": 3
   },
   "file_extension": ".py",
   "mimetype": "text/x-python",
   "name": "python",
   "nbconvert_exporter": "python",
   "pygments_lexer": "ipython3",
   "version": "3.8.10"
  }
 },
 "nbformat": 4,
 "nbformat_minor": 5
}
