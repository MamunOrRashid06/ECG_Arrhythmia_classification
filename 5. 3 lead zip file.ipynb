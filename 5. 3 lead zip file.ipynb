{
 "cells": [
  {
   "cell_type": "code",
   "execution_count": null,
   "id": "8e08da1a",
   "metadata": {},
   "outputs": [],
   "source": [
    "from numpy import load\n",
    "import numpy as np\n",
    "from numpy import savez_compressed"
   ]
  },
  {
   "cell_type": "code",
   "execution_count": null,
   "id": "ae3d1cd6",
   "metadata": {},
   "outputs": [],
   "source": [
    "data = load('F:/denoised/I_128.npz', allow_pickle=True)"
   ]
  },
  {
   "cell_type": "code",
   "execution_count": null,
   "id": "da5aee26",
   "metadata": {},
   "outputs": [],
   "source": [
    "tr1 = data['X_train']\n",
    "print('Loaded: ', tr1.shape)"
   ]
  },
  {
   "cell_type": "code",
   "execution_count": null,
   "id": "71f4babe",
   "metadata": {},
   "outputs": [],
   "source": [
    "y_train=data['y_train']\n",
    "y_test=data['y_test']"
   ]
  },
  {
   "cell_type": "code",
   "execution_count": null,
   "id": "ab369b9e",
   "metadata": {},
   "outputs": [],
   "source": [
    "ts1 = data['X_test']\n",
    "print('Loaded: ', ts1.shape)"
   ]
  },
  {
   "cell_type": "code",
   "execution_count": null,
   "id": "61e5d7b6",
   "metadata": {},
   "outputs": [],
   "source": [
    "data = load('F:/denoised/II_128.npz', allow_pickle=True)"
   ]
  },
  {
   "cell_type": "code",
   "execution_count": null,
   "id": "a04c2f2f",
   "metadata": {},
   "outputs": [],
   "source": [
    "tr2 = data['X_train']\n",
    "print('Loaded: ', tr2.shape)"
   ]
  },
  {
   "cell_type": "code",
   "execution_count": null,
   "id": "43019199",
   "metadata": {},
   "outputs": [],
   "source": [
    "ts2 = data['X_test']\n",
    "print('Loaded: ', ts2.shape)"
   ]
  },
  {
   "cell_type": "code",
   "execution_count": null,
   "id": "74e64f00",
   "metadata": {},
   "outputs": [],
   "source": [
    "data = load('F:/denoised/I_128.npz', allow_pickle=True)"
   ]
  },
  {
   "cell_type": "code",
   "execution_count": null,
   "id": "13715368",
   "metadata": {},
   "outputs": [],
   "source": [
    "tr3 = data['X_train']\n",
    "print('Loaded: ', tr3.shape)"
   ]
  },
  {
   "cell_type": "code",
   "execution_count": null,
   "id": "8a1a4ea7",
   "metadata": {},
   "outputs": [],
   "source": [
    "ts3 = data['X_test']\n",
    "print('Loaded: ', ts3.shape)"
   ]
  },
  {
   "cell_type": "code",
   "execution_count": null,
   "id": "c2b00e59",
   "metadata": {},
   "outputs": [],
   "source": [
    "train = np.vstack((tr1, tr2))"
   ]
  },
  {
   "cell_type": "code",
   "execution_count": null,
   "id": "6368dc34",
   "metadata": {},
   "outputs": [],
   "source": [
    "train= np.vstack((train, tr3)) "
   ]
  },
  {
   "cell_type": "code",
   "execution_count": null,
   "id": "37604516",
   "metadata": {},
   "outputs": [],
   "source": [
    "np.shape(train)"
   ]
  },
  {
   "cell_type": "code",
   "execution_count": null,
   "id": "07a7b4e7",
   "metadata": {},
   "outputs": [],
   "source": [
    "test = np.vstack((ts1, ts2))"
   ]
  },
  {
   "cell_type": "code",
   "execution_count": null,
   "id": "349869a0",
   "metadata": {},
   "outputs": [],
   "source": [
    "test= np.vstack((test, ts3)) "
   ]
  },
  {
   "cell_type": "code",
   "execution_count": null,
   "id": "6870f739",
   "metadata": {},
   "outputs": [],
   "source": [
    "np.shape(test)"
   ]
  },
  {
   "cell_type": "code",
   "execution_count": null,
   "id": "8c2f62bb",
   "metadata": {},
   "outputs": [],
   "source": [
    "filename = 'G:/3 lead/3 lead I II III train.npz'\n",
    "savez_compressed(filename, train)"
   ]
  },
  {
   "cell_type": "code",
   "execution_count": null,
   "id": "ee75e425",
   "metadata": {},
   "outputs": [],
   "source": [
    "filename = 'G:/3 lead/3 lead I II III test.npz'\n",
    "savez_compressed(filename, V1)"
   ]
  },
  {
   "cell_type": "code",
   "execution_count": null,
   "id": "1047a175",
   "metadata": {},
   "outputs": [],
   "source": [
    "filename = 'G:/3 lead/y_train.npz'\n",
    "savez_compressed(filename, y_train)"
   ]
  },
  {
   "cell_type": "code",
   "execution_count": null,
   "id": "f69d43dc",
   "metadata": {},
   "outputs": [],
   "source": [
    "filename = 'G:/3 lead/y_test.npz'\n",
    "savez_compressed(filename, y_test)"
   ]
  }
 ],
 "metadata": {
  "kernelspec": {
   "display_name": "Python 3",
   "language": "python",
   "name": "python3"
  },
  "language_info": {
   "codemirror_mode": {
    "name": "ipython",
    "version": 3
   },
   "file_extension": ".py",
   "mimetype": "text/x-python",
   "name": "python",
   "nbconvert_exporter": "python",
   "pygments_lexer": "ipython3",
   "version": "3.8.10"
  }
 },
 "nbformat": 4,
 "nbformat_minor": 5
}
