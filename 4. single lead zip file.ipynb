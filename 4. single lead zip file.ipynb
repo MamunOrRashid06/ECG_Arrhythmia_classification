{
 "cells": [
  {
   "cell_type": "code",
   "execution_count": 1,
   "id": "6400bd22",
   "metadata": {},
   "outputs": [],
   "source": [
    "import numpy as np\n",
    "import pandas as pd\n",
    "import glob\n",
    "import cv2"
   ]
  },
  {
   "cell_type": "code",
   "execution_count": 2,
   "id": "82f66210",
   "metadata": {},
   "outputs": [],
   "source": [
    "path=\"F:/denoised/split/I/train_I\"\n",
    "files=glob.glob(path+'/*.png')\n",
    "print(files) "
   ]
  },
  {
   "cell_type": "code",
   "execution_count": 3,
   "id": "bb4f2662",
   "metadata": {},
   "outputs": [],
   "source": [
    "np.shape(files)"
   ]
  },
  {
   "cell_type": "code",
   "execution_count": 4,
   "id": "186aca94",
   "metadata": {},
   "outputs": [],
   "source": [
    "df1=pd.read_csv(\"F:/4 class Diagnostics.csv\")"
   ]
  },
  {
   "cell_type": "code",
   "execution_count": 5,
   "id": "cd0cf58e",
   "metadata": {},
   "outputs": [
    {
     "data": {
      "text/html": [
       "<div>\n",
       "<style scoped>\n",
       "    .dataframe tbody tr th:only-of-type {\n",
       "        vertical-align: middle;\n",
       "    }\n",
       "\n",
       "    .dataframe tbody tr th {\n",
       "        vertical-align: top;\n",
       "    }\n",
       "\n",
       "    .dataframe thead th {\n",
       "        text-align: right;\n",
       "    }\n",
       "</style>\n",
       "<table border=\"1\" class=\"dataframe\">\n",
       "  <thead>\n",
       "    <tr style=\"text-align: right;\">\n",
       "      <th></th>\n",
       "      <th>FileName</th>\n",
       "      <th>Rhythm</th>\n",
       "      <th>Beat</th>\n",
       "      <th>PatientAge</th>\n",
       "      <th>Gender</th>\n",
       "      <th>VentricularRate</th>\n",
       "      <th>AtrialRate</th>\n",
       "      <th>QRSDuration</th>\n",
       "      <th>QTInterval</th>\n",
       "      <th>QTCorrected</th>\n",
       "      <th>RAxis</th>\n",
       "      <th>TAxis</th>\n",
       "      <th>QRSCount</th>\n",
       "      <th>QOnset</th>\n",
       "      <th>QOffset</th>\n",
       "      <th>TOffset</th>\n",
       "    </tr>\n",
       "  </thead>\n",
       "  <tbody>\n",
       "    <tr>\n",
       "      <th>0</th>\n",
       "      <td>MUSE_20180113_171327_27000</td>\n",
       "      <td>AFIB</td>\n",
       "      <td>RBBB TWC</td>\n",
       "      <td>85</td>\n",
       "      <td>MALE</td>\n",
       "      <td>117</td>\n",
       "      <td>234</td>\n",
       "      <td>114</td>\n",
       "      <td>356</td>\n",
       "      <td>496</td>\n",
       "      <td>81</td>\n",
       "      <td>-27</td>\n",
       "      <td>19</td>\n",
       "      <td>208</td>\n",
       "      <td>265</td>\n",
       "      <td>386</td>\n",
       "    </tr>\n",
       "    <tr>\n",
       "      <th>1</th>\n",
       "      <td>MUSE_20180112_073319_29000</td>\n",
       "      <td>SB</td>\n",
       "      <td>TWC</td>\n",
       "      <td>59</td>\n",
       "      <td>FEMALE</td>\n",
       "      <td>52</td>\n",
       "      <td>52</td>\n",
       "      <td>92</td>\n",
       "      <td>432</td>\n",
       "      <td>401</td>\n",
       "      <td>76</td>\n",
       "      <td>42</td>\n",
       "      <td>8</td>\n",
       "      <td>215</td>\n",
       "      <td>261</td>\n",
       "      <td>431</td>\n",
       "    </tr>\n",
       "    <tr>\n",
       "      <th>2</th>\n",
       "      <td>MUSE_20180111_165520_97000</td>\n",
       "      <td>SR</td>\n",
       "      <td>NONE</td>\n",
       "      <td>20</td>\n",
       "      <td>FEMALE</td>\n",
       "      <td>67</td>\n",
       "      <td>67</td>\n",
       "      <td>82</td>\n",
       "      <td>382</td>\n",
       "      <td>403</td>\n",
       "      <td>88</td>\n",
       "      <td>20</td>\n",
       "      <td>11</td>\n",
       "      <td>224</td>\n",
       "      <td>265</td>\n",
       "      <td>415</td>\n",
       "    </tr>\n",
       "    <tr>\n",
       "      <th>3</th>\n",
       "      <td>MUSE_20180113_121940_44000</td>\n",
       "      <td>SB</td>\n",
       "      <td>NONE</td>\n",
       "      <td>66</td>\n",
       "      <td>MALE</td>\n",
       "      <td>53</td>\n",
       "      <td>53</td>\n",
       "      <td>96</td>\n",
       "      <td>456</td>\n",
       "      <td>427</td>\n",
       "      <td>34</td>\n",
       "      <td>3</td>\n",
       "      <td>9</td>\n",
       "      <td>219</td>\n",
       "      <td>267</td>\n",
       "      <td>447</td>\n",
       "    </tr>\n",
       "    <tr>\n",
       "      <th>4</th>\n",
       "      <td>MUSE_20180112_122850_57000</td>\n",
       "      <td>AFIB</td>\n",
       "      <td>STDD STTC</td>\n",
       "      <td>73</td>\n",
       "      <td>FEMALE</td>\n",
       "      <td>162</td>\n",
       "      <td>162</td>\n",
       "      <td>114</td>\n",
       "      <td>252</td>\n",
       "      <td>413</td>\n",
       "      <td>68</td>\n",
       "      <td>-40</td>\n",
       "      <td>26</td>\n",
       "      <td>228</td>\n",
       "      <td>285</td>\n",
       "      <td>354</td>\n",
       "    </tr>\n",
       "    <tr>\n",
       "      <th>...</th>\n",
       "      <td>...</td>\n",
       "      <td>...</td>\n",
       "      <td>...</td>\n",
       "      <td>...</td>\n",
       "      <td>...</td>\n",
       "      <td>...</td>\n",
       "      <td>...</td>\n",
       "      <td>...</td>\n",
       "      <td>...</td>\n",
       "      <td>...</td>\n",
       "      <td>...</td>\n",
       "      <td>...</td>\n",
       "      <td>...</td>\n",
       "      <td>...</td>\n",
       "      <td>...</td>\n",
       "      <td>...</td>\n",
       "    </tr>\n",
       "    <tr>\n",
       "      <th>10641</th>\n",
       "      <td>MUSE_20181222_204306_99000</td>\n",
       "      <td>GSVT</td>\n",
       "      <td>NONE</td>\n",
       "      <td>80</td>\n",
       "      <td>FEMALE</td>\n",
       "      <td>196</td>\n",
       "      <td>73</td>\n",
       "      <td>168</td>\n",
       "      <td>284</td>\n",
       "      <td>513</td>\n",
       "      <td>258</td>\n",
       "      <td>244</td>\n",
       "      <td>32</td>\n",
       "      <td>177</td>\n",
       "      <td>261</td>\n",
       "      <td>319</td>\n",
       "    </tr>\n",
       "    <tr>\n",
       "      <th>10642</th>\n",
       "      <td>MUSE_20181222_204309_22000</td>\n",
       "      <td>GSVT</td>\n",
       "      <td>NONE</td>\n",
       "      <td>81</td>\n",
       "      <td>FEMALE</td>\n",
       "      <td>162</td>\n",
       "      <td>81</td>\n",
       "      <td>162</td>\n",
       "      <td>294</td>\n",
       "      <td>482</td>\n",
       "      <td>110</td>\n",
       "      <td>-75</td>\n",
       "      <td>27</td>\n",
       "      <td>173</td>\n",
       "      <td>254</td>\n",
       "      <td>320</td>\n",
       "    </tr>\n",
       "    <tr>\n",
       "      <th>10643</th>\n",
       "      <td>MUSE_20181222_204310_31000</td>\n",
       "      <td>GSVT</td>\n",
       "      <td>NONE</td>\n",
       "      <td>39</td>\n",
       "      <td>MALE</td>\n",
       "      <td>152</td>\n",
       "      <td>92</td>\n",
       "      <td>152</td>\n",
       "      <td>340</td>\n",
       "      <td>540</td>\n",
       "      <td>250</td>\n",
       "      <td>38</td>\n",
       "      <td>25</td>\n",
       "      <td>208</td>\n",
       "      <td>284</td>\n",
       "      <td>378</td>\n",
       "    </tr>\n",
       "    <tr>\n",
       "      <th>10644</th>\n",
       "      <td>MUSE_20181222_204312_58000</td>\n",
       "      <td>GSVT</td>\n",
       "      <td>NONE</td>\n",
       "      <td>76</td>\n",
       "      <td>MALE</td>\n",
       "      <td>175</td>\n",
       "      <td>178</td>\n",
       "      <td>128</td>\n",
       "      <td>310</td>\n",
       "      <td>529</td>\n",
       "      <td>98</td>\n",
       "      <td>-83</td>\n",
       "      <td>29</td>\n",
       "      <td>205</td>\n",
       "      <td>269</td>\n",
       "      <td>360</td>\n",
       "    </tr>\n",
       "    <tr>\n",
       "      <th>10645</th>\n",
       "      <td>MUSE_20181222_204314_78000</td>\n",
       "      <td>GSVT</td>\n",
       "      <td>NONE</td>\n",
       "      <td>75</td>\n",
       "      <td>MALE</td>\n",
       "      <td>117</td>\n",
       "      <td>104</td>\n",
       "      <td>140</td>\n",
       "      <td>312</td>\n",
       "      <td>435</td>\n",
       "      <td>263</td>\n",
       "      <td>144</td>\n",
       "      <td>19</td>\n",
       "      <td>208</td>\n",
       "      <td>278</td>\n",
       "      <td>364</td>\n",
       "    </tr>\n",
       "  </tbody>\n",
       "</table>\n",
       "<p>10646 rows × 16 columns</p>\n",
       "</div>"
      ],
      "text/plain": [
       "                         FileName Rhythm       Beat  PatientAge  Gender  \\\n",
       "0      MUSE_20180113_171327_27000   AFIB   RBBB TWC          85    MALE   \n",
       "1      MUSE_20180112_073319_29000     SB        TWC          59  FEMALE   \n",
       "2      MUSE_20180111_165520_97000     SR       NONE          20  FEMALE   \n",
       "3      MUSE_20180113_121940_44000     SB       NONE          66    MALE   \n",
       "4      MUSE_20180112_122850_57000   AFIB  STDD STTC          73  FEMALE   \n",
       "...                           ...    ...        ...         ...     ...   \n",
       "10641  MUSE_20181222_204306_99000   GSVT       NONE          80  FEMALE   \n",
       "10642  MUSE_20181222_204309_22000   GSVT       NONE          81  FEMALE   \n",
       "10643  MUSE_20181222_204310_31000   GSVT       NONE          39    MALE   \n",
       "10644  MUSE_20181222_204312_58000   GSVT       NONE          76    MALE   \n",
       "10645  MUSE_20181222_204314_78000   GSVT       NONE          75    MALE   \n",
       "\n",
       "       VentricularRate  AtrialRate  QRSDuration  QTInterval  QTCorrected  \\\n",
       "0                  117         234          114         356          496   \n",
       "1                   52          52           92         432          401   \n",
       "2                   67          67           82         382          403   \n",
       "3                   53          53           96         456          427   \n",
       "4                  162         162          114         252          413   \n",
       "...                ...         ...          ...         ...          ...   \n",
       "10641              196          73          168         284          513   \n",
       "10642              162          81          162         294          482   \n",
       "10643              152          92          152         340          540   \n",
       "10644              175         178          128         310          529   \n",
       "10645              117         104          140         312          435   \n",
       "\n",
       "       RAxis  TAxis  QRSCount  QOnset  QOffset  TOffset  \n",
       "0         81    -27        19     208      265      386  \n",
       "1         76     42         8     215      261      431  \n",
       "2         88     20        11     224      265      415  \n",
       "3         34      3         9     219      267      447  \n",
       "4         68    -40        26     228      285      354  \n",
       "...      ...    ...       ...     ...      ...      ...  \n",
       "10641    258    244        32     177      261      319  \n",
       "10642    110    -75        27     173      254      320  \n",
       "10643    250     38        25     208      284      378  \n",
       "10644     98    -83        29     205      269      360  \n",
       "10645    263    144        19     208      278      364  \n",
       "\n",
       "[10646 rows x 16 columns]"
      ]
     },
     "execution_count": 5,
     "metadata": {},
     "output_type": "execute_result"
    }
   ],
   "source": [
    "df1"
   ]
  },
  {
   "cell_type": "code",
   "execution_count": 6,
   "id": "e39c4bbe",
   "metadata": {},
   "outputs": [],
   "source": [
    "X=[]\n",
    "c=0\n",
    "for file in files:\n",
    "    path= file.split('\\\\')[-1]\n",
    "    path= path.split('.')[0]\n",
    "    b= cv2.imread(file)\n",
    "    b= cv2.resize(b, (128, 128), interpolation = cv2.INTER_AREA)\n",
    "    X.append(b)\n",
    "    a=0\n",
    "    for i in df1['FileName']:\n",
    "        if i==path:\n",
    "            df=df1.iloc[[a]]\n",
    "            k=df['Rhythm']\n",
    "            k.to_numpy()\n",
    "            if c==0:\n",
    "                y=k\n",
    "                c+=1\n",
    "            else:\n",
    "                y=np.append(y, k)\n",
    "                c+=1\n",
    "        a+=1"
   ]
  },
  {
   "cell_type": "code",
   "execution_count": 7,
   "id": "5ba43355",
   "metadata": {},
   "outputs": [
    {
     "name": "stdout",
     "output_type": "stream",
     "text": [
      "(8516, 128, 128, 3)\n"
     ]
    }
   ],
   "source": [
    "X_train = np.asarray(X)\n",
    "print(X_train.shape)"
   ]
  },
  {
   "cell_type": "code",
   "execution_count": 8,
   "id": "e3db6709",
   "metadata": {},
   "outputs": [
    {
     "data": {
      "text/plain": [
       "8516"
      ]
     },
     "execution_count": 8,
     "metadata": {},
     "output_type": "execute_result"
    }
   ],
   "source": [
    "c"
   ]
  },
  {
   "cell_type": "code",
   "execution_count": 9,
   "id": "2dedff2a",
   "metadata": {},
   "outputs": [
    {
     "name": "stdout",
     "output_type": "stream",
     "text": [
      "(8516, 1)\n"
     ]
    }
   ],
   "source": [
    "y_train=np.reshape(y,(c,1))\n",
    "y_train=np.asarray(y_train)\n",
    "print(y_train.shape) "
   ]
  },
  {
   "cell_type": "code",
   "execution_count": 10,
   "id": "bc9e0f4a",
   "metadata": {},
   "outputs": [],
   "source": [
    "path=\"F:/denoised/split/I/test_I\"\n",
    "files=glob.glob(path+'/*.png')\n",
    "print(files)"
   ]
  },
  {
   "cell_type": "code",
   "execution_count": 11,
   "id": "94d28409",
   "metadata": {},
   "outputs": [
    {
     "data": {
      "text/plain": [
       "(2130,)"
      ]
     },
     "execution_count": 11,
     "metadata": {},
     "output_type": "execute_result"
    }
   ],
   "source": [
    "np.shape(files)"
   ]
  },
  {
   "cell_type": "code",
   "execution_count": 15,
   "id": "ce8e26ed",
   "metadata": {},
   "outputs": [],
   "source": [
    "X=[]\n",
    "c=0\n",
    "for file in files:\n",
    "    path= file.split('\\\\')[-1]\n",
    "    path= path.split('.')[0]\n",
    "    b= cv2.imread(file)\n",
    "    b= cv2.resize(b, (128, 128), interpolation = cv2.INTER_AREA)\n",
    "    X.append(b)\n",
    "    a=0\n",
    "    for i in df1['FileName']:\n",
    "        if i==path:\n",
    "            df=df1.iloc[[a]]\n",
    "            k=df['Rhythm']\n",
    "            k.to_numpy()\n",
    "            if c==0:\n",
    "                y=k\n",
    "                c+=1\n",
    "            else:\n",
    "                y=np.append(y, k)\n",
    "                c+=1\n",
    "        a+=1"
   ]
  },
  {
   "cell_type": "code",
   "execution_count": 16,
   "id": "cf60a75f",
   "metadata": {},
   "outputs": [
    {
     "name": "stdout",
     "output_type": "stream",
     "text": [
      "(2130, 128, 128, 3)\n"
     ]
    }
   ],
   "source": [
    "X_test = np.asarray(X)\n",
    "print(X_test.shape)"
   ]
  },
  {
   "cell_type": "code",
   "execution_count": 17,
   "id": "b5bf8f07",
   "metadata": {},
   "outputs": [
    {
     "data": {
      "text/plain": [
       "2130"
      ]
     },
     "execution_count": 17,
     "metadata": {},
     "output_type": "execute_result"
    }
   ],
   "source": [
    "c"
   ]
  },
  {
   "cell_type": "code",
   "execution_count": 18,
   "id": "747c0469",
   "metadata": {},
   "outputs": [
    {
     "name": "stdout",
     "output_type": "stream",
     "text": [
      "(2130, 1)\n"
     ]
    }
   ],
   "source": [
    "y_test=np.reshape(y,(c,1))\n",
    "y_test=np.asarray(y_test)\n",
    "print(y_test.shape) "
   ]
  },
  {
   "cell_type": "code",
   "execution_count": 19,
   "id": "88007e92",
   "metadata": {},
   "outputs": [],
   "source": [
    "from numpy import savez_compressed"
   ]
  },
  {
   "cell_type": "code",
   "execution_count": 20,
   "id": "7e47fb33",
   "metadata": {},
   "outputs": [],
   "source": [
    "filename = 'F:/denoised/I_128.npz' \n",
    "savez_compressed(filename, X_train=X_train, y_train=y_train, X_test=X_test, y_test=y_test)"
   ]
  },
  {
   "cell_type": "code",
   "execution_count": null,
   "id": "6089ad06",
   "metadata": {},
   "outputs": [],
   "source": []
  }
 ],
 "metadata": {
  "kernelspec": {
   "display_name": "Python 3",
   "language": "python",
   "name": "python3"
  },
  "language_info": {
   "codemirror_mode": {
    "name": "ipython",
    "version": 3
   },
   "file_extension": ".py",
   "mimetype": "text/x-python",
   "name": "python",
   "nbconvert_exporter": "python",
   "pygments_lexer": "ipython3",
   "version": "3.8.10"
  }
 },
 "nbformat": 4,
 "nbformat_minor": 5
}
